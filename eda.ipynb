{
 "cells": [
  {
   "cell_type": "code",
   "execution_count": 23,
   "metadata": {},
   "outputs": [],
   "source": [
    "import numpy as np\n",
    "from names_dataset import NameDataset\n",
    "from graphviz import Digraph\n",
    "from utils import draw_dot"
   ]
  },
  {
   "cell_type": "code",
   "execution_count": 4,
   "metadata": {},
   "outputs": [],
   "source": [
    "namedataset = NameDataset()\n",
    "many_names = namedataset.get_top_names(500, use_first_names=True, country_alpha2='IT', gender='F')['IT']['F']"
   ]
  },
  {
   "cell_type": "code",
   "execution_count": 5,
   "metadata": {},
   "outputs": [
    {
     "name": "stdout",
     "output_type": "stream",
     "text": [
      "500\n",
      "<class 'list'>\n",
      "['Daiana', 'Mariantonietta', 'Nicol', 'Bella', 'Carol', 'Magdalena', 'Madalina', 'Luminita', 'Mila', 'Cornelia', 'Chicca', 'Grace', 'Olivia', 'Priscilla', 'Myriam', 'Samuela', 'Cri', 'Maria Carmela', 'Annunziata', 'Marilisa']\n"
     ]
    }
   ],
   "source": [
    "print(len(many_names))\n",
    "print(type(many_names))\n",
    "print(many_names[-20:])"
   ]
  },
  {
   "cell_type": "code",
   "execution_count": 6,
   "metadata": {},
   "outputs": [
    {
     "name": "stdout",
     "output_type": "stream",
     "text": [
      "Anna Maria\n",
      "Maria Grazia\n",
      "Maria Teresa\n",
      "Maria Rosaria\n",
      "Maria Luisa\n",
      "Maria Rosa\n",
      "Maria Antonietta\n",
      "Maria Cristina\n",
      "Maria Rita\n",
      "Maria Concetta\n",
      "Maria Giovanna\n",
      "Maria Chiara\n",
      "Maria Elena\n",
      "Maria Vittoria\n",
      "Ana Maria\n",
      "Maria Angela\n",
      "Rosa Maria\n",
      "Maria Carmela\n",
      "482\n",
      "26\n",
      "['a', 'b', 'c', 'd', 'e', 'f', 'g', 'h', 'i', 'j', 'k', 'l', 'm', 'n', 'o', 'p', 'q', 'r', 's', 't', 'u', 'v', 'w', 'x', 'y', 'z']\n"
     ]
    }
   ],
   "source": [
    "unique_chars = set()\n",
    "for name in many_names:\n",
    "    unique_chars.update(set(name.lower()))\n",
    "    if ' ' in name:\n",
    "        print(name)\n",
    "        many_names.remove(name)\n",
    "        unique_chars.remove(' ')\n",
    "\n",
    "\n",
    "unique_chars = sorted(list(unique_chars))\n",
    "print(len(many_names))\n",
    "print(len(unique_chars))\n",
    "print(unique_chars)\n",
    "\n"
   ]
  },
  {
   "cell_type": "code",
   "execution_count": 7,
   "metadata": {},
   "outputs": [
    {
     "name": "stdout",
     "output_type": "stream",
     "text": [
      "{'a': 0, 'b': 1, 'c': 2, 'd': 3, 'e': 4, 'f': 5, 'g': 6, 'h': 7, 'i': 8, 'j': 9, 'k': 10, 'l': 11, 'm': 12, 'n': 13, 'o': 14, 'p': 15, 'q': 16, 'r': 17, 's': 18, 't': 19, 'u': 20, 'v': 21, 'w': 22, 'x': 23, 'y': 24, 'z': 25}\n",
      "{0: 'a', 1: 'b', 2: 'c', 3: 'd', 4: 'e', 5: 'f', 6: 'g', 7: 'h', 8: 'i', 9: 'j', 10: 'k', 11: 'l', 12: 'm', 13: 'n', 14: 'o', 15: 'p', 16: 'q', 17: 'r', 18: 's', 19: 't', 20: 'u', 21: 'v', 22: 'w', 23: 'x', 24: 'y', 25: 'z'}\n"
     ]
    }
   ],
   "source": [
    "S_to_I = {s:i for i,s in enumerate(unique_chars)}\n",
    "I_to_S = {i:s for i,s in enumerate(unique_chars)}\n",
    "\n",
    "print(S_to_I)\n",
    "print(I_to_S)"
   ]
  },
  {
   "cell_type": "code",
   "execution_count": 22,
   "metadata": {},
   "outputs": [
    {
     "name": "stdout",
     "output_type": "stream",
     "text": [
      "z: Data = 15.0, Grad = 1.0\n",
      "y: Data = 5.0, Grad = 0\n",
      "x: Data = 2.0, Grad = 0\n"
     ]
    }
   ],
   "source": []
  },
  {
   "cell_type": "code",
   "execution_count": null,
   "metadata": {},
   "outputs": [],
   "source": []
  }
 ],
 "metadata": {
  "kernelspec": {
   "display_name": "Python 3",
   "language": "python",
   "name": "python3"
  },
  "language_info": {
   "codemirror_mode": {
    "name": "ipython",
    "version": 3
   },
   "file_extension": ".py",
   "mimetype": "text/x-python",
   "name": "python",
   "nbconvert_exporter": "python",
   "pygments_lexer": "ipython3",
   "version": "3.11.5"
  }
 },
 "nbformat": 4,
 "nbformat_minor": 2
}
