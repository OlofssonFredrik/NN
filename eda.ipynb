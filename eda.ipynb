{
 "cells": [
  {
   "cell_type": "code",
   "execution_count": null,
   "metadata": {},
   "outputs": [],
   "source": [
    "import numpy as np\n",
    "from names_dataset import NameDataset\n",
    "from nn import Node, Layer, MLP\n",
    "import matplotlib.pyplot as plt"
   ]
  },
  {
   "cell_type": "code",
   "execution_count": null,
   "metadata": {},
   "outputs": [],
   "source": [
    "namedataset = NameDataset()\n",
    "many_names = namedataset.get_top_names(500, use_first_names=True, country_alpha2='IT', gender='F')['IT']['F']"
   ]
  },
  {
   "cell_type": "code",
   "execution_count": null,
   "metadata": {},
   "outputs": [],
   "source": [
    "print(len(many_names))\n",
    "print(type(many_names))\n",
    "print(many_names[-20:])\n",
    "\n",
    "many_names = [name.lower() for name in many_names]\n",
    "print(many_names[-20:])"
   ]
  },
  {
   "cell_type": "code",
   "execution_count": null,
   "metadata": {},
   "outputs": [],
   "source": [
    "unique_chars = set()\n",
    "for name in many_names:\n",
    "    unique_chars.update(set(name.lower()))\n",
    "    if ' ' in name:\n",
    "        print(name)\n",
    "        many_names.remove(name)\n",
    "        unique_chars.remove(' ')\n",
    "\n",
    "\n",
    "unique_chars = sorted(list(unique_chars))\n",
    "print(len(many_names))\n",
    "print(len(unique_chars))\n",
    "print(unique_chars)\n",
    "\n"
   ]
  },
  {
   "cell_type": "code",
   "execution_count": null,
   "metadata": {},
   "outputs": [],
   "source": [
    "S_to_I = {s:i+1 for i,s in enumerate(unique_chars)}\n",
    "S_to_I['.'] = 0\n",
    "I_to_S = {s:i for i,s in S_to_I.items()}\n",
    "\n",
    "print(S_to_I)\n",
    "print(I_to_S)\n",
    "import torch"
   ]
  },
  {
   "cell_type": "code",
   "execution_count": 676,
   "metadata": {},
   "outputs": [],
   "source": [
    "bigrams = np.zeros((27, 27))\n",
    "for name in many_names:\n",
    "    chrs = ['.'] + list(name) + ['.']\n",
    "    for ch1, ch2 in zip(chrs, chrs[1:]):\n",
    "        idx1 = S_to_I[ch1]\n",
    "        idx2 = S_to_I[ch2]\n",
    "        bigrams[idx1, idx2] += 1"
   ]
  },
  {
   "cell_type": "code",
   "execution_count": null,
   "metadata": {},
   "outputs": [],
   "source": [
    "plt.figure(figsize=(15, 15))\n",
    "plt.imshow(b, cmap='Blues')\n",
    "\n",
    "for i in range(27):\n",
    "    for j in range(27):\n",
    "        chstr = I_to_S[i] + I_to_S[j]\n",
    "        plt.text(j, i, chstr, ha='center', va='bottom', color='gray')\n",
    "        plt.text(j, i, bigrams[i, j].item(), ha='center', va='top', color='gray')"
   ]
  },
  {
   "cell_type": "code",
   "execution_count": 677,
   "metadata": {},
   "outputs": [],
   "source": [
    "bigrams += 1e-10\n",
    "P = bigrams / bigrams.sum(axis=1, keepdims=True)"
   ]
  },
  {
   "cell_type": "code",
   "execution_count": 681,
   "metadata": {},
   "outputs": [
    {
     "name": "stdout",
     "output_type": "stream",
     "text": [
      "giolbrndolalucriafeta.\n",
      "pandeta.\n",
      "pa.\n",
      "a.\n",
      "ma.\n",
      "atilelanelori.\n",
      "na.\n",
      "a.\n",
      "lenanosta.\n",
      "dinerepilaliania.\n"
     ]
    }
   ],
   "source": [
    "def sample_names():\n",
    "    ix = 0\n",
    "    name = ''\n",
    "    while True:\n",
    "        p = P[ix,:]\n",
    "        ix = np.random.choice(27, p=p, size=1).item()\n",
    "        name += I_to_S[ix]\n",
    "        if ix == 0:\n",
    "            break\n",
    "\n",
    "    print(name)\n",
    "\n",
    "for _ in range(10):\n",
    "    sample_names()\n"
   ]
  },
  {
   "cell_type": "code",
   "execution_count": 684,
   "metadata": {},
   "outputs": [
    {
     "name": "stdout",
     "output_type": "stream",
     "text": [
      "P(.n) = 0.044 -> logprob = -3.127\n",
      "P(no) = 0.023 -> logprob = -3.761\n",
      "P(om) = 0.042 -> logprob = -3.178\n",
      "P(ma) = 0.504 -> logprob = -0.685\n",
      "P(ar) = 0.094 -> logprob = -2.364\n",
      "P(rk) = 0.000 -> logprob = -28.396\n",
      "P(k.) = 0.000 -> logprob = -25.511\n",
      "log_likelihood = -67.023\n",
      "neg_log_likelihood = 67.023\n",
      "avg_neg_log_likelihood = 9.575\n"
     ]
    }
   ],
   "source": [
    "log_likelihood = 0\n",
    "n = 0\n",
    "for name in ['nomark']:\n",
    "    chrs = ['.'] + list(name) + ['.']\n",
    "    for ch1, ch2 in zip(chrs, chrs[1:]):\n",
    "        idx1 = S_to_I[ch1]\n",
    "        idx2 = S_to_I[ch2]\n",
    "        prob = P[idx1, idx2]\n",
    "        logprob = np.log(prob)\n",
    "        log_likelihood += logprob\n",
    "        n += 1\n",
    "        print(f'P({ch1}{ch2}) = {prob:.3f} -> logprob = {logprob:.3f}')\n",
    "\n",
    "print(f'log_likelihood = {log_likelihood:.3f}')\n",
    "neg_log_likelihood = -log_likelihood\n",
    "print(f'neg_log_likelihood = {neg_log_likelihood:.3f}')\n",
    "avg_neg_log_likelihood = neg_log_likelihood / n\n",
    "print(f'avg_neg_log_likelihood = {avg_neg_log_likelihood:.3f}')"
   ]
  },
  {
   "cell_type": "code",
   "execution_count": 692,
   "metadata": {},
   "outputs": [
    {
     "name": "stdout",
     "output_type": "stream",
     "text": [
      "P(.m) = 0.142\n",
      "P(ma) = 0.504\n",
      "P(ar) = 0.094\n",
      "P(ri) = 0.367\n",
      "P(ia) = 0.336\n",
      "P(a.) = 0.568\n",
      "[ 0 13  1 18  9  1]\n",
      "[13  1 18  9  1  0]\n"
     ]
    }
   ],
   "source": [
    "xs, ys = [], []\n",
    "for name in many_names[:1]:\n",
    "    chrs = ['.'] + list(name) + ['.']\n",
    "    for ch1, ch2 in zip(chrs, chrs[1:]):\n",
    "        idx1 = S_to_I[ch1]\n",
    "        idx2 = S_to_I[ch2]\n",
    "        xs.append(idx1)\n",
    "        ys.append(idx2)\n",
    "        print(f'P({ch1}{ch2}) = {P[idx1, idx2]:.3f}')\n",
    "\n",
    "xs, ys = np.array(xs), np.array(ys)\n",
    "print(xs)\n",
    "print(ys)"
   ]
  },
  {
   "cell_type": "code",
   "execution_count": 703,
   "metadata": {},
   "outputs": [
    {
     "name": "stdout",
     "output_type": "stream",
     "text": [
      "(6, 27)\n"
     ]
    },
    {
     "data": {
      "text/plain": [
       "<matplotlib.image.AxesImage at 0x217066fce50>"
      ]
     },
     "execution_count": 703,
     "metadata": {},
     "output_type": "execute_result"
    },
    {
     "data": {
      "image/png": "[encoded data removed]",
      "text/plain": [
       "<Figure size 640x480 with 1 Axes>"
      ]
     },
     "metadata": {},
     "output_type": "display_data"
    }
   ],
   "source": [
    "xenc = np.zeros((len(xs), 27))\n",
    "xenc[np.arange(len(xs)), xs] = 1\n",
    "print(xenc.shape)\n",
    "\n",
    "plt.imshow(xenc)"
   ]
  },
  {
   "cell_type": "code",
   "execution_count": null,
   "metadata": {},
   "outputs": [],
   "source": []
  }
 ],
 "metadata": {
  "kernelspec": {
   "display_name": "Python 3",
   "language": "python",
   "name": "python3"
  },
  "language_info": {
   "codemirror_mode": {
    "name": "ipython",
    "version": 3
   },
   "file_extension": ".py",
   "mimetype": "text/x-python",
   "name": "python",
   "nbconvert_exporter": "python",
   "pygments_lexer": "ipython3",
   "version": "3.11.5"
  }
 },
 "nbformat": 4,
 "nbformat_minor": 2
}
