{
 "cells": [
  {
   "cell_type": "code",
   "execution_count": 14,
   "metadata": {},
   "outputs": [],
   "source": [
    "import numpy as np\n",
    "import matplotlib.pyplot as plt"
   ]
  },
  {
   "cell_type": "code",
   "execution_count": 69,
   "metadata": {},
   "outputs": [
    {
     "name": "stdout",
     "output_type": "stream",
     "text": [
      "A: [[1 2]\n",
      " [4 6]]\n",
      "A.shape: (2, 2)\n",
      "==================================================\n",
      "A_ax0: [[ 3]\n",
      " [10]]\n",
      "A_ax0.shape: (2, 1)\n",
      "\n",
      "C: [[0.33333333 0.66666667]\n",
      " [0.4        0.6       ]]\n"
     ]
    }
   ],
   "source": [
    "A = np.array([[1, 2], \n",
    "              [4, 6]])\n",
    "print(f\"A: {A}\")\n",
    "print(f\"A.shape: {A.shape}\")\n",
    "print('='*50)\n",
    "A_ax0 = A.sum(axis=1, keepdims=True)\n",
    "\n",
    "print(f\"A_ax0: {A_ax0}\")\n",
    "print(f\"A_ax0.shape: {A_ax0.shape}\")\n",
    "C = np.divide(A, A_ax0)\n",
    "print()\n",
    "print(f\"C: {C}\")"
   ]
  },
  {
   "cell_type": "code",
   "execution_count": null,
   "metadata": {},
   "outputs": [],
   "source": []
  }
 ],
 "metadata": {
  "kernelspec": {
   "display_name": "NNenv",
   "language": "python",
   "name": "python3"
  },
  "language_info": {
   "codemirror_mode": {
    "name": "ipython",
    "version": 3
   },
   "file_extension": ".py",
   "mimetype": "text/x-python",
   "name": "python",
   "nbconvert_exporter": "python",
   "pygments_lexer": "ipython3",
   "version": "3.11.5"
  }
 },
 "nbformat": 4,
 "nbformat_minor": 2
}
